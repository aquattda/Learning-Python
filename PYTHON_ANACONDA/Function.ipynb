{
 "cells": [
  {
   "cell_type": "markdown",
   "id": "8af3ad10-8c44-4492-819e-8f74ad4176b8",
   "metadata": {},
   "source": [
    "# FUNCTION"
   ]
  },
  {
   "cell_type": "code",
   "execution_count": 46,
   "id": "ecd837c8-3e23-4cc0-9afc-565e69128beb",
   "metadata": {},
   "outputs": [],
   "source": [
    "#Remove các ký tự đặc biệt\n",
    "def remove_special_chars(s):\n",
    "    l = []\n",
    "    for i in s:\n",
    "        if (i.lower() >= 'a' and i.lower() <= 'z') or (i.lower() >= '0' and i.lower() <= '9'):\n",
    "            l.append(i)\n",
    "    return ''.join(l)"
   ]
  },
  {
   "cell_type": "code",
   "execution_count": 48,
   "id": "2914cca5-6707-4978-9b96-fc45b8942ed1",
   "metadata": {},
   "outputs": [
    {
     "name": "stdout",
     "output_type": "stream",
     "text": [
      "dasds asd 12@$$!@rd13dwd1``2\n",
      "dasdsasd12rd13dwd12\n"
     ]
    }
   ],
   "source": [
    "x = 'dasds asd 12@$$!@rd13dwd1``2'\n",
    "k = remove_special_chars(x)\n",
    "print(x)\n",
    "print(k)"
   ]
  },
  {
   "cell_type": "code",
   "execution_count": 50,
   "id": "d82677f6-63ab-4fb0-adbc-ff0787630446",
   "metadata": {},
   "outputs": [],
   "source": [
    "# Tính tổng\n",
    "def sum_number(*num):  # * để tránh trường hợp có nhiều phần tử xuất hiện\n",
    "    s = 0\n",
    "    for i in num:\n",
    "        s+= i\n",
    "    return s"
   ]
  },
  {
   "cell_type": "code",
   "execution_count": 52,
   "id": "cf95d48f-58cf-4429-95cd-89cd3946b4d6",
   "metadata": {},
   "outputs": [
    {
     "data": {
      "text/plain": [
       "55653"
      ]
     },
     "execution_count": 52,
     "metadata": {},
     "output_type": "execute_result"
    }
   ],
   "source": [
    "sum_number(21312, 34341)"
   ]
  },
  {
   "cell_type": "markdown",
   "id": "f19b5dbe-a277-4270-9a2a-b545ef065e57",
   "metadata": {},
   "source": [
    "# LAMBDA FUNCTION"
   ]
  },
  {
   "cell_type": "code",
   "execution_count": 56,
   "id": "05a109d8-e882-422a-a2b8-39c62aa3128c",
   "metadata": {},
   "outputs": [
    {
     "name": "stdout",
     "output_type": "stream",
     "text": [
      "5\n"
     ]
    }
   ],
   "source": [
    "#Tinh tong 2 so\n",
    "x = lambda x, y : x + y\n",
    "print(x(2,3))"
   ]
  },
  {
   "cell_type": "code",
   "execution_count": null,
   "id": "c1e2d03a-2ae3-43c3-a436-7cd8ab6519a0",
   "metadata": {},
   "outputs": [],
   "source": []
  }
 ],
 "metadata": {
  "kernelspec": {
   "display_name": "Python [conda env:base] *",
   "language": "python",
   "name": "conda-base-py"
  },
  "language_info": {
   "codemirror_mode": {
    "name": "ipython",
    "version": 3
   },
   "file_extension": ".py",
   "mimetype": "text/x-python",
   "name": "python",
   "nbconvert_exporter": "python",
   "pygments_lexer": "ipython3",
   "version": "3.12.7"
  }
 },
 "nbformat": 4,
 "nbformat_minor": 5
}
