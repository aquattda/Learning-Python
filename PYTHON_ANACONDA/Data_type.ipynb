{
 "cells": [
  {
   "cell_type": "markdown",
   "id": "022d461f-9a11-40bf-b96e-5674ff9f50a3",
   "metadata": {},
   "source": [
    "# TỔNG QUAN VỀ DATA TYPES IN PYTHON"
   ]
  },
  {
   "cell_type": "markdown",
   "id": "91fcd670-b986-40a2-ba29-b4fda10a5a46",
   "metadata": {},
   "source": [
    "# I. LIST"
   ]
  },
  {
   "cell_type": "markdown",
   "id": "69ca3419-1a25-446e-bd9d-380def79e311",
   "metadata": {},
   "source": [
    "1. KHÁI NIỆM\n",
    "- List cho phép lưu trữ hay làm việc với nhiều phần tử cùng 1 lúc"
   ]
  },
  {
   "cell_type": "code",
   "execution_count": 55,
   "id": "6bce7ef5-6da1-4031-adac-27e6046441f9",
   "metadata": {},
   "outputs": [
    {
     "name": "stdout",
     "output_type": "stream",
     "text": [
      "[1, 2, 3, 4, 5, 3]\n",
      "<class 'list'>\n",
      "6\n",
      "2\n",
      "[1, 2, 3]\n"
     ]
    },
    {
     "data": {
      "text/plain": [
       "3"
      ]
     },
     "execution_count": 55,
     "metadata": {},
     "output_type": "execute_result"
    }
   ],
   "source": [
    "my_list = [1, 2, 3, 4, 5, 3]\n",
    "print(my_list) \n",
    "# data type\n",
    "print(type(my_list))\n",
    "#Length and truy vấn list\n",
    "print(len(my_list)) #5\n",
    "print(my_list[1]) #2\n",
    "print(my_list[0:3]) #[1, 2, 3]\n",
    "# index\n",
    "my_list.index(my_list[-1]) + 1  #Không nên sử dụng index tính độ dài\n"
   ]
  },
  {
   "cell_type": "code",
   "execution_count": 22,
   "id": "5e33ff0d-bc36-4368-bee0-a7a5f3e894e8",
   "metadata": {},
   "outputs": [
    {
     "name": "stdout",
     "output_type": "stream",
     "text": [
      "[5, 2, 3, 4, 1]\n"
     ]
    }
   ],
   "source": [
    "# Change element index\n",
    "int_number = [1, 2, 3, 4, 5]\n",
    "# Want to change [5,2,3,4,1]\n",
    "int_number[0],int_number[-1] = int_number[-1],int_number[0]\n",
    "print(int_number)"
   ]
  },
  {
   "cell_type": "code",
   "execution_count": 28,
   "id": "735ae044-cf8f-40ad-9c4c-e5cb014ad42a",
   "metadata": {},
   "outputs": [
    {
     "name": "stdin",
     "output_type": "stream",
     "text": [
      "Enter number index:  2\n",
      "Enter number:  10\n"
     ]
    },
    {
     "data": {
      "text/plain": [
       "[10, 2, 1, 4, 5]"
      ]
     },
     "execution_count": 28,
     "metadata": {},
     "output_type": "execute_result"
    }
   ],
   "source": [
    "# user\n",
    "# [1,2,3,4,5] => index= 2, n = 10 => [10,2,1,4,5]\n",
    "int_number = [1, 2, 3, 4, 5]\n",
    "index = int(input(\"Enter number index: \"))\n",
    "number = int(input(\"Enter number: \"))\n",
    "int_number[index] = number\n",
    "int_number[index], int_number[0] = int_number[0], int_number[index]\n",
    "int_number"
   ]
  },
  {
   "cell_type": "code",
   "execution_count": 85,
   "id": "c475ee1e-8cb3-41f4-b7c4-cf06b3221606",
   "metadata": {},
   "outputs": [],
   "source": [
    "# find maximun of firt, middle, last element of a list\n",
    "#C1: USE MAX\n",
    "l = [3,4,7,5,8]\n",
    "f = l[0]\n",
    "m = len(l) // 2\n",
    "la = l[-1]\n",
    "max(f,l[m],la)\n",
    "\n",
    "#C2: NOT USE MAX\n",
    "max_list = f\n",
    "if max_list < m:\n",
    "    max_list = m\n",
    "    print(max_list)\n",
    "if max_list < la:\n",
    "    max_list = la\n",
    "    max_list"
   ]
  },
  {
   "cell_type": "code",
   "execution_count": 6,
   "id": "6bb7effc-13ec-4820-a45e-f8e16132bc2d",
   "metadata": {},
   "outputs": [
    {
     "name": "stdout",
     "output_type": "stream",
     "text": [
      "8\n"
     ]
    }
   ],
   "source": [
    "l = [3,4,7,5,8]\n",
    "f = l[0]\n",
    "m = l[len(l) // 2]\n",
    "la = l[-1]\n",
    "if f >= t & f >= la:\n",
    "    print(f)\n",
    "elif t >= f & t >=la:\n",
    "    print(t)\n",
    "else: \n",
    "    print(la)"
   ]
  },
  {
   "cell_type": "markdown",
   "id": "df3e1b2e-b858-41a7-bac9-e927b07a98e7",
   "metadata": {},
   "source": [
    "SLICING\n",
    "\n",
    "- l[start:end:step] (default step = 1)\n",
    "- QUAN TRỌNG: nên nhớ SLICING luôn trả về 1 LIST chứ không phải giá trị\n"
   ]
  },
  {
   "cell_type": "code",
   "execution_count": 80,
   "id": "025f379a-c1f7-4f3c-a658-f27219dc2da1",
   "metadata": {},
   "outputs": [
    {
     "name": "stdout",
     "output_type": "stream",
     "text": [
      "[1, 4, 6, 8, 9, 10]\n",
      "[1, 4]\n",
      "[1, 4, 6, 8]\n",
      "[1, 4, 6, 8, 9, 10]\n",
      "[1, 6]\n",
      "1\n",
      "[10, 9, 8, 6, 4, 1]\n",
      "9\n",
      "[1, 4, 6, 8, 1, 2]\n"
     ]
    }
   ],
   "source": [
    "#Create\n",
    "l = [1,4,6,8,9,10]\n",
    "print(l[0:]) # 0 -> n\n",
    "print(l[0:2]) # 0->1 (because :2 take two element)\n",
    "print(l[:4]) # 0->3\n",
    "print(l[:]) #take all of list\n",
    "print(l[:3:2]) #1,6 (because step = 2 should step two element)\n",
    "print(l[0:1][0]) # l[0:1] => [1] but if calculator => add [index] take element\n",
    "print(l[::-1]) # Inverse list use STEP = -1 (-1 -2 -3 -4 -5.......)\n",
    "print(l[-3:][::-1][-2]) # print(l[:-4:-1]) \n",
    "l[-2:] = [1,2]\n",
    "print(l)"
   ]
  },
  {
   "cell_type": "markdown",
   "id": "ad694ff8-cca6-45e9-a83d-e16d32679ec5",
   "metadata": {},
   "source": [
    "OUT OF RANGE !!!\n",
    "- LIST: Sẽ báo lỗi nếu truy cập quá độ dài của list\n",
    "- SLICING : Luôn hiểu là cuối nếu truy cập quá độ dài"
   ]
  },
  {
   "cell_type": "code",
   "execution_count": 87,
   "id": "f56a4734-88bf-4b12-a35d-0e530e4c169b",
   "metadata": {},
   "outputs": [
    {
     "ename": "IndexError",
     "evalue": "list index out of range",
     "output_type": "error",
     "traceback": [
      "\u001b[1;31m---------------------------------------------------------------------------\u001b[0m",
      "\u001b[1;31mIndexError\u001b[0m                                Traceback (most recent call last)",
      "Cell \u001b[1;32mIn[87], line 3\u001b[0m\n\u001b[0;32m      1\u001b[0m l \u001b[38;5;241m=\u001b[39m [\u001b[38;5;241m1\u001b[39m,\u001b[38;5;241m2\u001b[39m,\u001b[38;5;241m3\u001b[39m,\u001b[38;5;241m4\u001b[39m,\u001b[38;5;241m5\u001b[39m] \n\u001b[0;32m      2\u001b[0m \u001b[38;5;66;03m#LIST\u001b[39;00m\n\u001b[1;32m----> 3\u001b[0m \u001b[38;5;28mprint\u001b[39m(l[\u001b[38;5;241m7\u001b[39m]) \u001b[38;5;66;03m#OUT OF RANGE\u001b[39;00m\n\u001b[0;32m      4\u001b[0m \u001b[38;5;66;03m#SLICING\u001b[39;00m\n\u001b[0;32m      5\u001b[0m \u001b[38;5;28mprint\u001b[39m(l[\u001b[38;5;241m1\u001b[39m:\u001b[38;5;241m8\u001b[39m])\n",
      "\u001b[1;31mIndexError\u001b[0m: list index out of range"
     ]
    }
   ],
   "source": [
    "l = [1,2,3,4,5] \n",
    "#LIST\n",
    "print(l[7]) #OUT OF RANGE\n",
    "#SLICING\n",
    "print(l[1:8]) # [2,3,4,5]"
   ]
  },
  {
   "cell_type": "markdown",
   "id": "05c45689-b7fc-4c0c-8c37-c57f8e77d0c5",
   "metadata": {},
   "source": [
    "CÁC METHOD THƯỜNG SỬ DỤNG VỚI LIST"
   ]
  },
  {
   "cell_type": "code",
   "execution_count": 164,
   "id": "ad0d47d4-afa9-4bf6-8f9e-e9142637cc6f",
   "metadata": {},
   "outputs": [
    {
     "name": "stdout",
     "output_type": "stream",
     "text": [
      "[2, 3]\n",
      "1\n",
      "[1, 3]\n",
      "[2, 3, 'a', 4, 6]\n",
      "[1, 3, [1, 5, 'a']]\n"
     ]
    }
   ],
   "source": [
    "a = [1,2,3]\n",
    "b = [1,2,3]\n",
    "# - pop sẽ xóa dựa vào index và hiển thị phần tử mới xóa, còn remove dựa vào value\n",
    "k = a.pop()  # default pop = -1\n",
    "print(a)\n",
    "print(k)\n",
    "b.remove(2)\n",
    "print(b)\n",
    "# - extend sẽ thêm Từng element, còn append thêm toàn bộ element\n",
    "a.extend([\"a\", 4, 6])\n",
    "print(a)\n",
    "b.append([1,5,\"a\"])\n",
    "print(b)"
   ]
  },
  {
   "cell_type": "code",
   "execution_count": 152,
   "id": "a7ea5c77-8608-467b-894c-0ae3d5cf9d30",
   "metadata": {},
   "outputs": [
    {
     "name": "stdout",
     "output_type": "stream",
     "text": [
      "[2, 3]\n",
      "True\n",
      "False\n",
      "[4, 5, 6, 'Thanh Tuấn', 'Hihi']\n",
      "[4, 5, 6, 4, 5, 6, 4, 5, 6, 4, 5, 6, 4, 5, 6]\n",
      "[9, 8, 5, 4, 3, 1]\n",
      "[4, 1, 8, 9, 3]\n",
      "1\n",
      "2\n",
      "4\n",
      "1\n",
      "[2, 3]\n",
      "[5, 1, 2, 3]\n"
     ]
    }
   ],
   "source": [
    "# Check element in LIST\n",
    "l = [4,5,6]\n",
    "print(6 in l) #True\n",
    "print(1 in l) #False\n",
    "\n",
    "#Nối 2 list thành 1 list\n",
    "k = ['Thanh Tuấn', 'Hihi']\n",
    "print(l + k) #[4, 5, 6, 'Thanh Tuấn', 'Hihi']\n",
    "\n",
    "#Create a new list to replicate \n",
    "l2 = l * 5 #Replicate 5 again\n",
    "print(l2) #[4, 5, 6, 4, 5, 6, 4, 5, 6, 4, 5, 6, 4, 5, 6]\n",
    "\n",
    "#Sorted of list\n",
    "a = [4,5,1,8,9,3]\n",
    "print(sorted(a, reverse = True)) #Reverse = True => Inverse, default reverse = Flase\n",
    "\n",
    "#Delete of list\n",
    "del a[1:2]\n",
    "print(a)\n",
    "\n",
    "#Unpack list\n",
    "a = [1,2,4]\n",
    "a,b,c = a # a = 1, b = 2, c = 4\n",
    "print(a)\n",
    "print(b)\n",
    "print(c)\n",
    "\n",
    "#Unpack list pro\n",
    "a = [1,2,3]\n",
    "f, *_ = a #f = 1, *_ = [2,3] (take all element) but don't '*' => don't care\n",
    "print(f)\n",
    "print(_)\n",
    "\n",
    "a.insert(0,5)\n",
    "print(a)"
   ]
  },
  {
   "cell_type": "code",
   "execution_count": 20,
   "id": "2038a91c-b1cf-4fa7-9998-c463711648fe",
   "metadata": {},
   "outputs": [
    {
     "name": "stdout",
     "output_type": "stream",
     "text": [
      "6\n",
      "6\n",
      "3\n",
      "4\n"
     ]
    }
   ],
   "source": []
  },
  {
   "cell_type": "markdown",
   "id": "b1a2123d-e30e-4439-b476-bb2bf96031c9",
   "metadata": {},
   "source": [
    "# II. TUPLE"
   ]
  },
  {
   "cell_type": "markdown",
   "id": "4be82edf-2e59-4e81-9486-1ad818fa50e0",
   "metadata": {},
   "source": [
    "1. KHÁI NIỆM\n",
    "- List cho phép lưu trữ hay làm việc với nhiều phần tử cùng 1 lúc\n",
    "- Giống LIST nhưng immutable và KHÔNG cho thay đổi giá trị"
   ]
  },
  {
   "cell_type": "code",
   "execution_count": 26,
   "id": "b7fa8cb4-6f6c-40d2-8474-22b927dc75a5",
   "metadata": {},
   "outputs": [
    {
     "name": "stdout",
     "output_type": "stream",
     "text": [
      "Id: 1324352609024\n",
      "Id: 1324352555824\n"
     ]
    }
   ],
   "source": [
    "# Immutable (bất biến) tức là nó sẽ in ra ID như nhau nếu phần tử giống nhau\n",
    "l1 = [1,2,3,4,3]\n",
    "print(f\"Id: {id(l1)}\") # [1,2,3,4]\n",
    "t1 = (1,2,3,4,3) # hoặc dùng t1 = 1,2,3,4,5\n",
    "print(f\"Id: {id(t1)}\") # (1,2,3,4,3)"
   ]
  },
  {
   "cell_type": "code",
   "execution_count": 58,
   "id": "d6ce1cae-06f2-4741-b7d6-1466eb8f8483",
   "metadata": {},
   "outputs": [],
   "source": [
    "# Ép kiểu List -> Tuple và ngược lại\n",
    "t1 = 1,2,3,4,5 #Tuple\n",
    "t2 = list(t1) #List\n",
    "t3 = tuple(t2) #Tuple"
   ]
  },
  {
   "cell_type": "markdown",
   "id": "6cd5ae5a-0113-4f53-821b-233a4ed684f6",
   "metadata": {},
   "source": [
    "# III. LIST"
   ]
  },
  {
   "cell_type": "code",
   "execution_count": 2,
   "id": "f22212db-d2cb-4991-b489-64dd9e261246",
   "metadata": {
    "editable": true,
    "slideshow": {
     "slide_type": ""
    },
    "tags": []
   },
   "outputs": [
    {
     "name": "stdout",
     "output_type": "stream",
     "text": [
      "True\n",
      "True\n",
      "True\n"
     ]
    }
   ],
   "source": [
    "#Check substring\n",
    "s = 'Thanh tuanu'\n",
    "print(s.startswith(\"T\"))\n",
    "print(s.endswith(\"u\"))\n",
    "print( \"T\" in s)"
   ]
  },
  {
   "cell_type": "code",
   "execution_count": 88,
   "id": "11ca0a47-cd46-4962-b165-a381d9f483d7",
   "metadata": {},
   "outputs": [
    {
     "name": "stdout",
     "output_type": "stream",
     "text": [
      "7\n",
      "10\n"
     ]
    }
   ],
   "source": [
    "# Find and rfind\n",
    "# Find trả về index đầu tiên còn rfind thì cuối cùng\n",
    "print(s.find('u'))\n",
    "print(s.rfind('u'))\n"
   ]
  },
  {
   "cell_type": "code",
   "execution_count": 118,
   "id": "72a515a5-332a-4ad7-8814-3869c1327817",
   "metadata": {},
   "outputs": [
    {
     "name": "stdout",
     "output_type": "stream",
     "text": [
      "Ký tự    hihi nay tôi đi tập gym ha     và độ dài 33\n",
      "hihi nay tôi đi tập gym ha\n",
      "hihi nay tôi đi tập gym ha    \n",
      "   hihi nay tôi đi tập gym ha\n"
     ]
    }
   ],
   "source": [
    "# Strip / lstrip / rstrip / ispace\n",
    "s = \"   hihi nay tôi đi tập gym ha    \"\n",
    "s.isspace()\n",
    "print(\"Ký tự {} và độ dài {}\".format(s,len(s)))\n",
    "print(s.strip())\n",
    "print(s.lstrip())\n",
    "print(s.rstrip()) "
   ]
  },
  {
   "cell_type": "code",
   "execution_count": 44,
   "id": "f09e7651-0260-44f5-b7b1-cf16aeaa50fd",
   "metadata": {},
   "outputs": [
    {
     "name": "stdout",
     "output_type": "stream",
     "text": [
      "['Name:', 'ThanhTuan']\n",
      "('Name', ':', ' ThanhTuan')\n",
      "Name:/ThanhTuan\n",
      "This is Thanh Tuấn Rất Đẹp Trai HIHI and he is 21\n"
     ]
    }
   ],
   "source": [
    "#Split and partition string thành 3 phần\n",
    "s = \"Name: ThanhTuan\"\n",
    "w = s.split(\" \")\n",
    "print(w)\n",
    "p = s.partition(\":\")\n",
    "print(p)\n",
    "\n",
    "#Join \n",
    "s = ['Name:', 'ThanhTuan']\n",
    "j = \"/\".join(s)\n",
    "print(j)\n",
    "\n",
    "#Format Pro VIP\n",
    "s = \"Thanh Tuấn Rất Đẹp Trai HIHI\"\n",
    "age = 21\n",
    "print(\"This is {:>10} and he is {}\".format(s,age))"
   ]
  },
  {
   "cell_type": "markdown",
   "id": "427ef69e-f847-41e9-bbbf-86311716fb24",
   "metadata": {},
   "source": [
    "# IV. DICTIONARY "
   ]
  },
  {
   "cell_type": "markdown",
   "id": "bf5aa76e-18c8-487f-b5a0-c04df50742dc",
   "metadata": {},
   "source": [
    "- This is data colection have argument là key and value"
   ]
  },
  {
   "cell_type": "code",
   "execution_count": 62,
   "id": "d7b9a2d9-4110-41f2-832e-d3cd5c95a208",
   "metadata": {},
   "outputs": [
    {
     "name": "stdout",
     "output_type": "stream",
     "text": [
      "{'name': 'Thanh Tuan', 'age': 21, 'district': 'HCM'}\n",
      "<class 'dict'>\n",
      "<class 'str'>\n"
     ]
    }
   ],
   "source": [
    "d = {\n",
    "    \"name\": \"Thanh Tuan\",\n",
    "    \"age\": 21,\n",
    "    \"district\": \"HCM\"\n",
    "}\n",
    "print(d)\n",
    "print(type(d))\n",
    "s = str(d)\n",
    "print(type(s))"
   ]
  },
  {
   "cell_type": "code",
   "execution_count": 90,
   "id": "ce322b4c-9cf5-4431-ae51-8e7aa72d9358",
   "metadata": {},
   "outputs": [
    {
     "name": "stdout",
     "output_type": "stream",
     "text": [
      "{'Name': 'Thanh Tuan', 'Age': 21, 'District': 'HCM'}\n",
      "{'name': 'Thanh Tuannn', 'age': 26, 'district': 'HCM'}\n",
      "dict_keys(['name', 'age', 'district'])\n",
      "dict_values(['Thanh Tuannn', 26, 'HCM'])\n",
      "dict_items([('name', 'Thanh Tuannn'), ('age', 26), ('district', 'HCM')])\n"
     ]
    }
   ],
   "source": [
    "# If have two key -> take key end\n",
    "d = {\n",
    "    \"name\": \"Thanh Tuan\",\n",
    "    \"age\": 21,\n",
    "    \"district\": \"HCM\",\n",
    "    \"name\": \"Thanh Thanh\"\n",
    "}\n",
    "d\n",
    "\n",
    "#ZIP\n",
    "s1 = [\"Name\", \"Age\", \"District\"]\n",
    "s2 = [\"Thanh Tuan\", 21, 'HCM']\n",
    "d = dict(zip(s1,s2))\n",
    "print(d)\n",
    "\n",
    "#UPDATE\n",
    "d = {\n",
    "    \"name\": \"Thanh Tuan\",\n",
    "    \"age\": 21,\n",
    "    \"district\": \"HCM\"\n",
    "}\n",
    "d2 = {\n",
    "    \"name\": \"Thanh Tuannn\",\n",
    "    \"age\": 26\n",
    "}\n",
    "d.update(d2)\n",
    "print(d)\n",
    "print(d.keys())\n",
    "print(d.values())\n",
    "print(d.items())"
   ]
  },
  {
   "cell_type": "code",
   "execution_count": null,
   "id": "e8a72d31-cc68-41f2-a228-2e17489cc145",
   "metadata": {},
   "outputs": [],
   "source": []
  }
 ],
 "metadata": {
  "kernelspec": {
   "display_name": "Python [conda env:base] *",
   "language": "python",
   "name": "conda-base-py"
  },
  "language_info": {
   "codemirror_mode": {
    "name": "ipython",
    "version": 3
   },
   "file_extension": ".py",
   "mimetype": "text/x-python",
   "name": "python",
   "nbconvert_exporter": "python",
   "pygments_lexer": "ipython3",
   "version": "3.12.7"
  }
 },
 "nbformat": 4,
 "nbformat_minor": 5
}
