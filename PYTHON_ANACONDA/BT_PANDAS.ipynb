{
 "cells": [
  {
   "cell_type": "code",
   "execution_count": 5,
   "id": "6fe082e3-1749-445d-8418-3644fca43d12",
   "metadata": {},
   "outputs": [],
   "source": [
    "import numpy as np"
   ]
  },
  {
   "cell_type": "code",
   "execution_count": null,
   "id": "08eb5373-66f4-496d-ae2a-3c7a3d6997d0",
   "metadata": {},
   "outputs": [],
   "source": [
    "# Create a 1d array of numbers from 0 to 9"
   ]
  },
  {
   "cell_type": "code",
   "execution_count": 39,
   "id": "d258ba22-9bea-4350-ac4a-f8f9a4a99236",
   "metadata": {},
   "outputs": [
    {
     "name": "stdout",
     "output_type": "stream",
     "text": [
      "[0 1 2 3 4 5 6 7 8 9]\n"
     ]
    }
   ],
   "source": [
    "n = np.arange(10)\n",
    "print(n)"
   ]
  },
  {
   "cell_type": "code",
   "execution_count": null,
   "id": "7d4e6584-8d0e-4d85-a6d8-81049a999533",
   "metadata": {},
   "outputs": [],
   "source": [
    "'''\n",
    "Extract all odd numbers from arr\n",
    "Replace all odd numbers in arr with -1\n",
    "'''"
   ]
  },
  {
   "cell_type": "code",
   "execution_count": 41,
   "id": "7acd4755-816d-4122-a886-9f9da3287cc2",
   "metadata": {},
   "outputs": [
    {
     "data": {
      "text/plain": [
       "array([1, 3, 5, 7, 9])"
      ]
     },
     "execution_count": 41,
     "metadata": {},
     "output_type": "execute_result"
    }
   ],
   "source": [
    "n[n % 2 != 0]"
   ]
  },
  {
   "cell_type": "code",
   "execution_count": 43,
   "id": "6f5b4783-f853-42b3-9608-be7f12b87e3f",
   "metadata": {},
   "outputs": [
    {
     "data": {
      "text/plain": [
       "array([ 0, -1,  2, -1,  4, -1,  6, -1,  8, -1])"
      ]
     },
     "execution_count": 43,
     "metadata": {},
     "output_type": "execute_result"
    }
   ],
   "source": [
    "n[n % 2 != 0]  = -1\n",
    "n"
   ]
  },
  {
   "cell_type": "code",
   "execution_count": null,
   "id": "f2d3f8b0-9cc4-49a2-baca-88b34033995f",
   "metadata": {},
   "outputs": [],
   "source": [
    "'''\n",
    "Convert a 1d arr to a 2d arr with 2 rows\n",
    "'''"
   ]
  },
  {
   "cell_type": "code",
   "execution_count": 45,
   "id": "7dd6c07c-ddae-46de-807a-050bdedb978a",
   "metadata": {},
   "outputs": [
    {
     "data": {
      "text/plain": [
       "array([[ 0, -1,  2, -1,  4],\n",
       "       [-1,  6, -1,  8, -1]])"
      ]
     },
     "execution_count": 45,
     "metadata": {},
     "output_type": "execute_result"
    }
   ],
   "source": [
    "n.reshape ((2,5))"
   ]
  },
  {
   "cell_type": "code",
   "execution_count": null,
   "id": "70217171-6a31-4880-9f34-cabb4960573c",
   "metadata": {},
   "outputs": [],
   "source": [
    "'''\n",
    "- Get the common items between a and b using intersect1d\n",
    "'''"
   ]
  },
  {
   "cell_type": "code",
   "execution_count": 82,
   "id": "eb01c437-9aa5-4272-919e-9e4a0465051a",
   "metadata": {},
   "outputs": [
    {
     "name": "stdout",
     "output_type": "stream",
     "text": [
      "Số 1 xuất hiện 1 lần trong a và 1 lần trong b.\n",
      "Số 4 xuất hiện 1 lần trong a và 1 lần trong b.\n",
      "Số 5 xuất hiện 1 lần trong a và 2 lần trong b.\n",
      "Số 9 xuất hiện 1 lần trong a và 1 lần trong b.\n",
      "------------------------------------------------------------------------------\n",
      "Số 1 xuất hiện 1 lần trong a và 1 lần trong b.\n",
      "Số 4 xuất hiện 1 lần trong a và 1 lần trong b.\n",
      "Số 5 xuất hiện 1 lần trong a và 2 lần trong b.\n",
      "Số 9 xuất hiện 1 lần trong a và 1 lần trong b.\n"
     ]
    }
   ],
   "source": [
    "a = np.array([1,2,3,4,5,6,7,8,9])\n",
    "b = np.array([1,4,5,5,9])\n",
    "c = np.intersect1d(a,b)\n",
    "#C1\n",
    "for i in c:\n",
    "    count_a = 0\n",
    "    count_b = 0\n",
    "    for j in a:\n",
    "        if j == i:\n",
    "            count_a += 1\n",
    "    for j in b:\n",
    "        if j == i:\n",
    "            count_b +=1\n",
    "    print(f\"Số {i} xuất hiện {count_a} lần trong a và {count_b} lần trong b.\")  \n",
    "print('------------------------------------------------------------------------------')\n",
    "#C2\n",
    "for i in c:\n",
    "    count_a = np.count_nonzero(a == i)\n",
    "    count_b = np.count_nonzero(b == i)\n",
    "    print(f\"Số {i} xuất hiện {count_a} lần trong a và {count_b} lần trong b.\")"
   ]
  },
  {
   "cell_type": "code",
   "execution_count": null,
   "id": "fcffc5f0-eb65-4ab8-b496-1165ce330e3e",
   "metadata": {},
   "outputs": [],
   "source": [
    "'''\n",
    "- From arr a, remove all items present in arr b using setdiff1d\n",
    "'''"
   ]
  },
  {
   "cell_type": "code",
   "execution_count": 86,
   "id": "260b80c4-2c71-4be2-ab32-ba272cecc9bf",
   "metadata": {},
   "outputs": [
    {
     "data": {
      "text/plain": [
       "array([2, 3, 6, 7, 8])"
      ]
     },
     "execution_count": 86,
     "metadata": {},
     "output_type": "execute_result"
    }
   ],
   "source": [
    "a = np.array([1,2,3,4,5,6,7,8,9])\n",
    "b = np.array([1,4,5,5,9])\n",
    "c = np.setdiff1d(a,b)\n",
    "c"
   ]
  },
  {
   "cell_type": "code",
   "execution_count": null,
   "id": "ba3313d1-be33-4726-ba79-b7b130e3529c",
   "metadata": {},
   "outputs": [],
   "source": [
    "'''\n",
    "- Get all items between 5 and 10 from a\n",
    "'''"
   ]
  },
  {
   "cell_type": "code",
   "execution_count": 100,
   "id": "fe885df8-cc7a-435c-b460-e06d5101e71a",
   "metadata": {},
   "outputs": [
    {
     "data": {
      "text/plain": [
       "array([5, 6, 7, 8, 9])"
      ]
     },
     "execution_count": 100,
     "metadata": {},
     "output_type": "execute_result"
    }
   ],
   "source": [
    "a = np.array([1,2,3,4,5,6,7,8,9])\n",
    "b = a[(a >= 5) & (a <= 10)]\n",
    "b"
   ]
  },
  {
   "cell_type": "code",
   "execution_count": null,
   "id": "8878aac2-cffd-4a81-b724-610a444ab246",
   "metadata": {},
   "outputs": [],
   "source": [
    "'''\n",
    "Swap columns 1 and 2 in the array and rows\n",
    "'''"
   ]
  },
  {
   "cell_type": "code",
   "execution_count": 140,
   "id": "c91691e7-a45c-4c84-b053-3abc61a8ae80",
   "metadata": {},
   "outputs": [
    {
     "name": "stdout",
     "output_type": "stream",
     "text": [
      "[[2 1 0]\n",
      " [5 4 3]\n",
      " [8 7 6]]\n",
      "[[3 4 5]\n",
      " [6 7 8]\n",
      " [0 1 2]]\n"
     ]
    }
   ],
   "source": [
    "arr = np.arange(9).reshape(3,3)\n",
    "print(arr[:,[2,1,0]])\n",
    "print(arr[[1,2,0]])"
   ]
  },
  {
   "cell_type": "code",
   "execution_count": 150,
   "id": "f46147b8-dbbc-4b98-8e8a-f7e3fc9e6b73",
   "metadata": {},
   "outputs": [
    {
     "data": {
      "text/plain": [
       "array([5.1, 4.9, 4.7, 4.6, 5. , 5.4, 4.6, 5. , 4.4, 4.9, 5.4, 4.8, 4.8,\n",
       "       4.3, 5.8, 5.7, 5.4, 5.1, 5.7, 5.1, 5.4, 5.1, 4.6, 5.1, 4.8, 5. ,\n",
       "       5. , 5.2, 5.2, 4.7, 4.8, 5.4, 5.2, 5.5, 4.9, 5. , 5.5, 4.9, 4.4,\n",
       "       5.1, 5. , 4.5, 4.4, 5. , 5.1, 4.8, 5.1, 4.6, 5.3, 5. , 7. , 6.4,\n",
       "       6.9, 5.5, 6.5, 5.7, 6.3, 4.9, 6.6, 5.2, 5. , 5.9, 6. , 6.1, 5.6,\n",
       "       6.7, 5.6, 5.8, 6.2, 5.6, 5.9, 6.1, 6.3, 6.1, 6.4, 6.6, 6.8, 6.7,\n",
       "       6. , 5.7, 5.5, 5.5, 5.8, 6. , 5.4, 6. , 6.7, 6.3, 5.6, 5.5, 5.5,\n",
       "       6.1, 5.8, 5. , 5.6, 5.7, 5.7, 6.2, 5.1, 5.7, 6.3, 5.8, 7.1, 6.3,\n",
       "       6.5, 7.6, 4.9, 7.3, 6.7, 7.2, 6.5, 6.4, 6.8, 5.7, 5.8, 6.4, 6.5,\n",
       "       7.7, 7.7, 6. , 6.9, 5.6, 7.7, 6.3, 6.7, 7.2, 6.2, 6.1, 6.4, 7.2,\n",
       "       7.4, 7.9, 6.4, 6.3, 6.1, 7.7, 6.3, 6.4, 6. , 6.9, 6.7, 6.9, 5.8,\n",
       "       6.8, 6.7, 6.7, 6.3, 6.5, 6.2, 5.9])"
      ]
     },
     "execution_count": 150,
     "metadata": {},
     "output_type": "execute_result"
    }
   ],
   "source": [
    "url = 'https://archive.ics.uci.edu/ml/machine-learning-databases/iris/iris.data'\n",
    "iris = np.genfromtxt(url, delimiter= ',', dtype='object')\n",
    "sepallength = np.genfromtxt(url, delimiter= ',', dtype='float', usecols=[0])\n",
    "sepallength"
   ]
  },
  {
   "cell_type": "code",
   "execution_count": 162,
   "id": "ddf8370c-4665-436f-94d5-54531f2f637a",
   "metadata": {},
   "outputs": [
    {
     "name": "stdout",
     "output_type": "stream",
     "text": [
      "5.843333333333334\n",
      "5.843333333333334\n",
      "5.8\n"
     ]
    }
   ],
   "source": [
    "print(np.mean(sepallength, axis=0)) #Neu 1d thi khong can axis\n",
    "print(np.mean(sepallength))\n",
    "# print(np.mean(sepallength, axis=1)) ERROR\n",
    "print(np.median(sepallength, axis=0))"
   ]
  },
  {
   "cell_type": "code",
   "execution_count": null,
   "id": "69657fb9-c5ba-4c2e-97b7-70ac96019fa4",
   "metadata": {},
   "outputs": [],
   "source": [
    "'''\n",
    "Compute the maximum for each row in the given arr\n",
    "'''"
   ]
  },
  {
   "cell_type": "code",
   "execution_count": 170,
   "id": "ddd082bb-69fd-4b58-aa6c-63382516bd67",
   "metadata": {},
   "outputs": [
    {
     "data": {
      "text/plain": [
       "array([[4, 9, 7, 1, 7],\n",
       "       [4, 9, 2, 7, 1],\n",
       "       [5, 6, 1, 2, 3]])"
      ]
     },
     "execution_count": 170,
     "metadata": {},
     "output_type": "execute_result"
    }
   ],
   "source": [
    "a = np.random.randint(1, 10, [3,5])\n",
    "a"
   ]
  },
  {
   "cell_type": "code",
   "execution_count": 174,
   "id": "026a43d1-6911-4e28-89a0-4936e563292d",
   "metadata": {},
   "outputs": [
    {
     "data": {
      "text/plain": [
       "array([9, 9, 6])"
      ]
     },
     "execution_count": 174,
     "metadata": {},
     "output_type": "execute_result"
    }
   ],
   "source": [
    "np.max(a, axis = 1)"
   ]
  }
 ],
 "metadata": {
  "kernelspec": {
   "display_name": "Python [conda env:base] *",
   "language": "python",
   "name": "conda-base-py"
  },
  "language_info": {
   "codemirror_mode": {
    "name": "ipython",
    "version": 3
   },
   "file_extension": ".py",
   "mimetype": "text/x-python",
   "name": "python",
   "nbconvert_exporter": "python",
   "pygments_lexer": "ipython3",
   "version": "3.12.7"
  }
 },
 "nbformat": 4,
 "nbformat_minor": 5
}
