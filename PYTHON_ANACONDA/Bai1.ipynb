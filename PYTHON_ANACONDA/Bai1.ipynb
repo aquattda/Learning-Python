{
 "cells": [
  {
   "cell_type": "code",
   "execution_count": 18,
   "id": "6dea079e-cbd3-4afa-8d92-b46273ce414a",
   "metadata": {},
   "outputs": [
    {
     "name": "stdout",
     "output_type": "stream",
     "text": [
      "My name is 2003. I'm 21 years old and Thanh Tuan\n"
     ]
    }
   ],
   "source": [
    "age = 21\n",
    "name = 'Thanh Tuan'\n",
    "birthday = 2024 - age\n",
    "print(\"My name is {2}. I'm {1} years old and {0}\".format(name,age,birthday))"
   ]
  },
  {
   "cell_type": "code",
   "execution_count": 14,
   "id": "c1353198-5a3f-4bcc-8b72-2fd10ebcf276",
   "metadata": {},
   "outputs": [
    {
     "name": "stdin",
     "output_type": "stream",
     "text": [
      "Nhap tuoi:  20\n",
      "Nhap ten:  LTT\n"
     ]
    },
    {
     "name": "stdout",
     "output_type": "stream",
     "text": [
      "My name is LTT. I'm 20 years old and 2004\n"
     ]
    }
   ],
   "source": [
    "age = int(input(\"Nhap tuoi: \"))\n",
    "name = str(input(\"Nhap ten: \"))\n",
    "birthday = 2024 - age\n",
    "print(\"My name is {}. I'm {} years old and {}\".format(name,age,birthday))\n"
   ]
  },
  {
   "cell_type": "markdown",
   "id": "75592c6b-e31f-431e-b06e-f4771e3a5d7e",
   "metadata": {},
   "source": [
    "BÀI TẬP 1"
   ]
  },
  {
   "cell_type": "code",
   "execution_count": 34,
   "id": "35a0d24d-4c36-4e21-966a-58861ac7983b",
   "metadata": {},
   "outputs": [
    {
     "name": "stdin",
     "output_type": "stream",
     "text": [
      "Hay nhap do C:  30\n"
     ]
    },
    {
     "name": "stdout",
     "output_type": "stream",
     "text": [
      "Do F tuong duong la:  86\n"
     ]
    }
   ],
   "source": [
    "nhapDoC = int(input(\"Hay nhap do C: \"))\n",
    "changeDoC_To_DoF = int((nhapDoC * 9/5) + 32)\n",
    "print(\"Do F tuong duong la: \", changeDoC_To_DoF)"
   ]
  },
  {
   "cell_type": "markdown",
   "id": "7c4f450a-606f-4546-ac3d-7ed5c3e18148",
   "metadata": {},
   "source": [
    "BÀI TẬP 2"
   ]
  },
  {
   "cell_type": "code",
   "execution_count": 14,
   "id": "282a5e8c-c394-4d14-9214-14a0ac017846",
   "metadata": {
    "scrolled": true
   },
   "outputs": [
    {
     "name": "stdin",
     "output_type": "stream",
     "text": [
      "Canh a=  3\n",
      "Canh b=  4\n",
      "Canh c=  5\n"
     ]
    },
    {
     "name": "stdout",
     "output_type": "stream",
     "text": [
      "Canh a = 3. canh b = 4. canh c = 5. Ket qua = 6.0\n"
     ]
    },
    {
     "ename": "AttributeError",
     "evalue": "'float' object has no attribute '2f'",
     "output_type": "error",
     "traceback": [
      "\u001b[1;31m---------------------------------------------------------------------------\u001b[0m",
      "\u001b[1;31mAttributeError\u001b[0m                            Traceback (most recent call last)",
      "Cell \u001b[1;32mIn[14], line 9\u001b[0m\n\u001b[0;32m      7\u001b[0m \u001b[38;5;66;03m# s = int(math.pow(s,1/2))\u001b[39;00m\n\u001b[0;32m      8\u001b[0m \u001b[38;5;28mprint\u001b[39m(\u001b[38;5;124m\"\u001b[39m\u001b[38;5;124mCanh a = \u001b[39m\u001b[38;5;132;01m{}\u001b[39;00m\u001b[38;5;124m. canh b = \u001b[39m\u001b[38;5;132;01m{}\u001b[39;00m\u001b[38;5;124m. canh c = \u001b[39m\u001b[38;5;132;01m{}\u001b[39;00m\u001b[38;5;124m. Ket qua = \u001b[39m\u001b[38;5;132;01m{}\u001b[39;00m\u001b[38;5;124m\"\u001b[39m\u001b[38;5;241m.\u001b[39mformat(a,b,c,s))\n\u001b[1;32m----> 9\u001b[0m \u001b[38;5;28mprint\u001b[39m(\u001b[38;5;124m\"\u001b[39m\u001b[38;5;124mDien tích tam giác la: \u001b[39m\u001b[38;5;124m{\u001b[39m\u001b[38;5;124m.2f}\u001b[39m\u001b[38;5;124m\"\u001b[39m\u001b[38;5;241m.\u001b[39mformat(s))\n",
      "\u001b[1;31mAttributeError\u001b[0m: 'float' object has no attribute '2f'"
     ]
    }
   ],
   "source": [
    "import math\n",
    "a = int(input(\"Canh a= \"))\n",
    "b = int(input(\"Canh b= \"))\n",
    "c = int(input(\"Canh c= \"))\n",
    "p = int(0.5 * (a+b+c))\n",
    "s = float((p*(p-a)*(p-b)*(p-c))**(1/2))\n",
    "# s = int(math.pow(s,1/2))\n",
    "print(\"Canh a = {}. canh b = {}. canh c = {}. Ket qua = {}\".format(a,b,c,s))\n",
    "print(\"Dien tích tam giác la: {:.2f}\".format(s))"
   ]
  },
  {
   "cell_type": "markdown",
   "id": "1e6d60fe-b24e-4a31-8b22-76cce6b378f4",
   "metadata": {},
   "source": [
    "BÀI TẬP 3"
   ]
  },
  {
   "cell_type": "code",
   "execution_count": 51,
   "id": "7af30822-3507-4968-bd11-ec8aa8103bad",
   "metadata": {},
   "outputs": [
    {
     "name": "stdin",
     "output_type": "stream",
     "text": [
      "Nhap so nguyen:  10\n"
     ]
    },
    {
     "name": "stdout",
     "output_type": "stream",
     "text": [
      "10 là bội số của 5\n"
     ]
    }
   ],
   "source": [
    "a = int(input(\"Nhap so nguyen: \"))\n",
    "n = 5\n",
    "if(a % n == 0):\n",
    "    print(\"{} là bội số của {}\".format(a,n))\n",
    "else:\n",
    "    print(\"{} là không là bội số của {}\".format(a,n))"
   ]
  },
  {
   "cell_type": "code",
   "execution_count": null,
   "id": "0513ba23-1ff9-4418-8348-648de0aeb535",
   "metadata": {},
   "outputs": [],
   "source": []
  }
 ],
 "metadata": {
  "kernelspec": {
   "display_name": "Python [conda env:base] *",
   "language": "python",
   "name": "conda-base-py"
  },
  "language_info": {
   "codemirror_mode": {
    "name": "ipython",
    "version": 3
   },
   "file_extension": ".py",
   "mimetype": "text/x-python",
   "name": "python",
   "nbconvert_exporter": "python",
   "pygments_lexer": "ipython3",
   "version": "3.12.7"
  }
 },
 "nbformat": 4,
 "nbformat_minor": 5
}
