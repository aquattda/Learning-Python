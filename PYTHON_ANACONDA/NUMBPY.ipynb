{
 "cells": [
  {
   "cell_type": "markdown",
   "id": "e8f7e3d9-2b92-4ef2-b6fb-6624d20dee83",
   "metadata": {},
   "source": [
    "# Luu y:\n",
    "- Numpy is meteral but only change value and NOT del, add"
   ]
  },
  {
   "cell_type": "code",
   "execution_count": 5,
   "id": "ba3c0587-43f7-4b3e-a916-96a65e7caf68",
   "metadata": {},
   "outputs": [],
   "source": [
    "import numpy as np"
   ]
  },
  {
   "cell_type": "code",
   "execution_count": 9,
   "id": "88af5294-576d-4934-9a83-3ac27f8e4898",
   "metadata": {},
   "outputs": [
    {
     "name": "stdout",
     "output_type": "stream",
     "text": [
      "[1 2 3 4]\n",
      "int32\n"
     ]
    }
   ],
   "source": [
    "l = [1,2,3,4]\n",
    "l2 = ['thanh tuan']\n",
    "n = np.array(l)\n",
    "print(n)\n",
    "print(n.dtype)"
   ]
  },
  {
   "cell_type": "code",
   "execution_count": 11,
   "id": "2c3d5746-66d8-4367-9c56-a3bfaec13513",
   "metadata": {},
   "outputs": [
    {
     "name": "stdout",
     "output_type": "stream",
     "text": [
      "[0 1 2 3 4 5 6 7 8 9]\n",
      "int32\n"
     ]
    }
   ],
   "source": [
    "a = np.arange(10)\n",
    "print(a)\n",
    "print(a.dtype)"
   ]
  },
  {
   "cell_type": "code",
   "execution_count": 23,
   "id": "04d0288f-8382-44b4-816b-12026dce02bf",
   "metadata": {},
   "outputs": [
    {
     "data": {
      "text/plain": [
       "array([[1, 5],\n",
       "       [2, 4]])"
      ]
     },
     "execution_count": 23,
     "metadata": {},
     "output_type": "execute_result"
    }
   ],
   "source": [
    "a = np.array([[1,5], [2,4]])\n",
    "a"
   ]
  },
  {
   "cell_type": "code",
   "execution_count": 27,
   "id": "2c0d0ac6-41bb-4155-aed2-98aae1dd926b",
   "metadata": {},
   "outputs": [
    {
     "name": "stdout",
     "output_type": "stream",
     "text": [
      "[4444    1    2    3    4    5    6    7    8    9]\n"
     ]
    }
   ],
   "source": [
    "a = np.arange(10)\n",
    "a[0] = 4444\n",
    "print(a)"
   ]
  },
  {
   "cell_type": "code",
   "execution_count": 31,
   "id": "72173fd5-dfac-4abf-8c11-30f0d3bc3cba",
   "metadata": {},
   "outputs": [
    {
     "name": "stdout",
     "output_type": "stream",
     "text": [
      "[1 2 3 1]\n"
     ]
    }
   ],
   "source": [
    "a = np.array([1,2,3,True])\n",
    "print(a)"
   ]
  },
  {
   "cell_type": "code",
   "execution_count": 53,
   "id": "0201c404-195c-40aa-9ca9-fd7b65c99ae1",
   "metadata": {},
   "outputs": [
    {
     "name": "stdout",
     "output_type": "stream",
     "text": [
      "[[0. 0. 0.]\n",
      " [0. 0. 0.]\n",
      " [0. 0. 0.]]\n",
      "[[1. 1.]\n",
      " [1. 1.]]\n",
      "[[7 7]\n",
      " [7 7]]\n",
      "[[1. 0. 0. 0.]\n",
      " [0. 1. 0. 0.]\n",
      " [0. 0. 1. 0.]\n",
      " [0. 0. 0. 1.]]\n",
      "[[0.26500877 0.84781843]\n",
      " [0.5825099  0.56399178]]\n"
     ]
    }
   ],
   "source": [
    "#Other methods to create arrays\n",
    "# zeros / ones / full / eye / random\n",
    "a = np.zeros((3,3))       # zeros((row, column, replace))\n",
    "print(a)\n",
    "\n",
    "a = np.ones((2,2))\n",
    "print(a)\n",
    "\n",
    "a = np.full((2,2), 7)\n",
    "print(a)\n",
    "\n",
    "a = np.eye(4)\n",
    "print(a)\n",
    "\n",
    "a = np.random.random((2,2))\n",
    "print(a)"
   ]
  },
  {
   "cell_type": "code",
   "execution_count": null,
   "id": "5758b952-29a4-41b5-8994-2a978032bd27",
   "metadata": {},
   "outputs": [],
   "source": [
    "# Infor Numpy"
   ]
  },
  {
   "cell_type": "code",
   "execution_count": 59,
   "id": "2b7e6dda-bfe1-41cf-935a-a6c8f2dc845c",
   "metadata": {},
   "outputs": [
    {
     "name": "stdout",
     "output_type": "stream",
     "text": [
      "6\n",
      "2\n",
      "---------\n",
      "6\n",
      "4\n",
      "(6,)\n",
      "(2, 2)\n",
      "1\n",
      "2\n"
     ]
    }
   ],
   "source": [
    "# SIZE\n",
    "a = np.array([1,2,3,4,5,6])\n",
    "b = np.array([[1,2], [3,5]])\n",
    "print(len(a))\n",
    "print(len(b))\n",
    "print('---------')\n",
    "print(a.size)\n",
    "print(b.size)\n",
    "\n",
    "#SHAPE vs DIMENSION\n",
    "print(a.shape)\n",
    "print(b.shape)\n",
    "\n",
    "print(a.ndim)\n",
    "print(b.ndim)"
   ]
  },
  {
   "cell_type": "markdown",
   "id": "8a492ab1-73b3-42d4-8c61-d414a80b7b0a",
   "metadata": {},
   "source": [
    "# Array Math"
   ]
  },
  {
   "cell_type": "code",
   "execution_count": 45,
   "id": "b8e3c765-20bc-4d94-8e50-f8829b54c6df",
   "metadata": {},
   "outputs": [
    {
     "name": "stdout",
     "output_type": "stream",
     "text": [
      "[[1. 2. 3.]\n",
      " [4. 5. 6.]]\n",
      "[[1. 4. 5.]\n",
      " [2. 6. 1.]]\n",
      "------------------------------------\n",
      "[5. 7. 9.]\n",
      "------------------------------------\n",
      "[10.  9.]\n",
      "------------------------------------\n",
      "[[1. 2. 3.]\n",
      " [4. 5. 6.]]\n",
      "------------------------------------\n",
      "[[1. 4.]\n",
      " [2. 5.]\n",
      " [3. 6.]]\n"
     ]
    }
   ],
   "source": [
    "x = np.array([[1,2,3], [4,5,6]], dtype= np.float64)\n",
    "y = np.array([[1,4,5], [2,6,1]], dtype= np.float64)\n",
    "# Sum Sub Divid Mathli\n",
    "print(x)\n",
    "print(y)\n",
    "print('------------------------------------')\n",
    "# Dot matrix\n",
    "# print(x.dot(y))\n",
    "\n",
    "# Sum and axis\n",
    "print(np.sum(x, axis = 0)) #Row\n",
    "print('------------------------------------')\n",
    "print(np.sum(y, axis = 1)) #Column\n",
    "print('------------------------------------')\n",
    "#Transpose matrix\n",
    "print(x)\n",
    "print('------------------------------------')\n",
    "print(x.T)"
   ]
  },
  {
   "cell_type": "markdown",
   "id": "243222bb-d8fe-4c09-a72c-464770f5fc96",
   "metadata": {},
   "source": [
    "# Vectorization"
   ]
  },
  {
   "cell_type": "code",
   "execution_count": 48,
   "id": "fdcc0f52-b247-48fc-b9f7-609e9edc02e3",
   "metadata": {},
   "outputs": [],
   "source": [
    "import timeit"
   ]
  },
  {
   "cell_type": "code",
   "execution_count": 66,
   "id": "41a7c942-20e6-48c5-bb1e-62ad4e0946b5",
   "metadata": {},
   "outputs": [
    {
     "name": "stdout",
     "output_type": "stream",
     "text": [
      "[0 1 2 3 4 5 6 7 8 9]\n"
     ]
    }
   ],
   "source": [
    "a = np.arange(10)\n",
    "print(a)"
   ]
  },
  {
   "cell_type": "code",
   "execution_count": 68,
   "id": "644339ef-0403-4031-a946-8acc6855c730",
   "metadata": {},
   "outputs": [
    {
     "name": "stdout",
     "output_type": "stream",
     "text": [
      "[10, 11, 12, 13, 14, 15, 16, 17, 18, 19]\n",
      "3.795650600019144\n"
     ]
    }
   ],
   "source": [
    "# Sum vs for\n",
    "print([x + 10 for x in a])\n",
    "print(timeit.timeit(setup= 'import numpy as np', stmt='[x + 10 for x in np.arange(10)]'))"
   ]
  },
  {
   "cell_type": "code",
   "execution_count": 69,
   "id": "985eff41-428c-4b1b-b8a9-c85bf9d6821a",
   "metadata": {},
   "outputs": [
    {
     "name": "stdout",
     "output_type": "stream",
     "text": [
      "[10 11 12 13 14 15 16 17 18 19]\n",
      "2.718263199989451\n"
     ]
    }
   ],
   "source": [
    "# Sum with vectorization\n",
    "print(a + 10)\n",
    "print(timeit.timeit(setup= 'import numpy as np', stmt='np.arange(10) + 10'))"
   ]
  },
  {
   "cell_type": "markdown",
   "id": "3efaf62a-1e12-4857-9489-6e45c832b974",
   "metadata": {},
   "source": [
    "# Masking"
   ]
  },
  {
   "cell_type": "code",
   "execution_count": 78,
   "id": "78d8a6c3-4d5a-4ac3-aaec-56a956ee8511",
   "metadata": {
    "scrolled": true
   },
   "outputs": [
    {
     "name": "stdout",
     "output_type": "stream",
     "text": [
      "[ 2  5  4 -1 -3  5  5 -9  2 -8]\n"
     ]
    }
   ],
   "source": [
    "a = np.random.randint(-10, 10, size = 10) \n",
    "print(a)"
   ]
  },
  {
   "cell_type": "code",
   "execution_count": 94,
   "id": "1e73341c-809b-4b56-8973-409a731884f0",
   "metadata": {},
   "outputs": [
    {
     "name": "stdout",
     "output_type": "stream",
     "text": [
      "[2 5 4 5 5 2]\n",
      "------------------------------------\n",
      "[2 5 4 5 5 2]\n",
      "------------------------------------\n",
      "[ 2  4  2 -8]\n"
     ]
    }
   ],
   "source": [
    "# a > 0\n",
    "print(a[a > 0]) #C1\n",
    "print('------------------------------------')\n",
    "b = a > 0\n",
    "print(a[b])\n",
    "print('------------------------------------')\n",
    "# element  %  2 == 0\n",
    "print(a[a % 2 == 0])"
   ]
  },
  {
   "cell_type": "code",
   "execution_count": 96,
   "id": "e852f4f1-b497-4b53-9ccd-0f02c0f37343",
   "metadata": {},
   "outputs": [
    {
     "name": "stdout",
     "output_type": "stream",
     "text": [
      "False\n",
      "------------------------------------\n",
      "True\n"
     ]
    }
   ],
   "source": [
    "# ALL and ANY\n",
    "print(np.all(a > 0))\n",
    "print('------------------------------------')\n",
    "print(np.any(a > 0))"
   ]
  },
  {
   "cell_type": "code",
   "execution_count": null,
   "id": "5d6e2cb3-cc7f-42e4-b309-3b202fe68e49",
   "metadata": {},
   "outputs": [],
   "source": [
    "# Different bewteen MEAN and MEDIAN\n",
    "'''\n",
    "- Nếu Mean = 5 nhưng Median = 8 => Có sự sai lệch data\n",
    "- Nhìn MIN -> MAX -> MEAN ->  MEDIAN\n",
    "'''"
   ]
  },
  {
   "cell_type": "code",
   "execution_count": null,
   "id": "8b096bb0-0271-44c9-9edd-2721c8632592",
   "metadata": {},
   "outputs": [],
   "source": []
  }
 ],
 "metadata": {
  "kernelspec": {
   "display_name": "Python [conda env:base] *",
   "language": "python",
   "name": "conda-base-py"
  },
  "language_info": {
   "codemirror_mode": {
    "name": "ipython",
    "version": 3
   },
   "file_extension": ".py",
   "mimetype": "text/x-python",
   "name": "python",
   "nbconvert_exporter": "python",
   "pygments_lexer": "ipython3",
   "version": "3.12.7"
  }
 },
 "nbformat": 4,
 "nbformat_minor": 5
}
