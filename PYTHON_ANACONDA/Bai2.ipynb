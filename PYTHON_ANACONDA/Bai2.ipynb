{
 "cells": [
  {
   "cell_type": "code",
   "execution_count": 3,
   "id": "8cdd8a14-e451-4d7f-a7fd-d15566b7ce95",
   "metadata": {},
   "outputs": [
    {
     "name": "stdout",
     "output_type": "stream",
     "text": [
      "[80]\n",
      "[150, 160]\n",
      "[100, 250]\n"
     ]
    }
   ],
   "source": [
    "# Bài 1\n",
    "s = [100,150,80,160,250]\n",
    "s_min = []\n",
    "s_mid = []\n",
    "s_max = []\n",
    "for i in s:\n",
    "    if i < 100:\n",
    "        s_min.append(i)\n",
    "    elif i> 100 and i < 200:\n",
    "        s_mid.append(i)\n",
    "    else:\n",
    "        s_max.append(i)\n",
    "        \n",
    "print(s_min)\n",
    "print(s_mid)\n",
    "print(s_max)"
   ]
  },
  {
   "cell_type": "code",
   "execution_count": null,
   "id": "983922ec-1f4e-4370-8b15-95ba21a0fd57",
   "metadata": {},
   "outputs": [],
   "source": [
    "# BAIF 2\n",
    "d = {\n",
    "    'Ngọc': 12345688,\n",
    "    'Chuong':12313123,\n",
    "    'Tuan': 431233412312\n",
    "}\n",
    "l = {k: str(v)[-6:] for k,v in d.items()}\n",
    "print(l)"
   ]
  },
  {
   "cell_type": "code",
   "execution_count": null,
   "id": "d0c1153e-1a73-4533-860a-3442a0747539",
   "metadata": {},
   "outputs": [],
   "source": [
    "#BÀI 3\n",
    "d = {'G12': 500, 'M15': 200, 'C20': 100000}\n",
    "# output: {'G12': ----} G-> 20%, M-> 30%, C->40%\n",
    "new_d = {}\n",
    "for k,v in d.items():\n",
    "    if k.startswith('G'):\n",
    "        v = v - (v*0.2)\n",
    "    elif k.startswith('M'):\n",
    "         v = v - (v*0.3)\n",
    "    elif k.startswith('C'):\n",
    "        v = v - (v*0.4)\n",
    "    new_d[k] = int(v)\n",
    "\n",
    "print(new_d)\n",
    "\n",
    "new_d2 = {}\n",
    "for i in d:\n",
    "    if str(i).startswith('G'):\n",
    "        new_d2[i] = int(d[i] * 0.8) \n",
    "    elif str(i).startswith('M'):\n",
    "         new_d2[i] = int(d[i] * 0.8) \n",
    "    elif str(i).startswith('C'):\n",
    "         new_d2[i] = int(d[i] * 0.8) \n",
    "\n",
    "print(new_d2)\n"
   ]
  },
  {
   "cell_type": "code",
   "execution_count": null,
   "id": "a4c2538b-22a8-4a14-8eef-12f29ce100d6",
   "metadata": {},
   "outputs": [],
   "source": [
    "#BÀI 4\n",
    "name = ['Tuan','Manh','Cuong','Lan']\n",
    "d_name = {'Tuan': 100, 'Manh': 123123, 'manh': 1231231}\n",
    "# dùng nested loop in ra tổng giá trị đơn hàng với từng khách hàng\n",
    "for i in name:\n",
    "    t = 0\n",
    "    for k in d_name.keys():\n",
    "        if i.lower() == k.lower():\n",
    "            t += d_name[k]\n",
    "            print(f\"{i} có tổng đơn hàng: {t}\")"
   ]
  }
 ],
 "metadata": {
  "kernelspec": {
   "display_name": "Python [conda env:base] *",
   "language": "python",
   "name": "conda-base-py"
  },
  "language_info": {
   "codemirror_mode": {
    "name": "ipython",
    "version": 3
   },
   "file_extension": ".py",
   "mimetype": "text/x-python",
   "name": "python",
   "nbconvert_exporter": "python",
   "pygments_lexer": "ipython3",
   "version": "3.12.7"
  }
 },
 "nbformat": 4,
 "nbformat_minor": 5
}
