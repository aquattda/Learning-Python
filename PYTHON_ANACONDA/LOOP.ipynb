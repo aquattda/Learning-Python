{
 "cells": [
  {
   "cell_type": "markdown",
   "id": "6a931a36-cb48-47e7-9d4b-9d2a2781e306",
   "metadata": {},
   "source": [
    "# I. IF...ELSE"
   ]
  },
  {
   "cell_type": "code",
   "execution_count": 11,
   "id": "2988b05f-faa9-4799-8f82-01a344116897",
   "metadata": {},
   "outputs": [
    {
     "name": "stdout",
     "output_type": "stream",
     "text": [
      "10 is integer number\n"
     ]
    }
   ],
   "source": [
    "#Check integer number\n",
    "x = 10 \n",
    "if x % 2 == 0: \n",
    "    print(\"{} is integer number\".format(x))\n",
    "else:\n",
    "    print(\"{} isn't integer number\".format(x))"
   ]
  },
  {
   "cell_type": "code",
   "execution_count": 19,
   "id": "e8486925-fffd-4ad0-8c2e-2d8b8bec1785",
   "metadata": {},
   "outputs": [
    {
     "name": "stdout",
     "output_type": "stream",
     "text": [
      "kHÔNG HỢP LỆ\n",
      "KHL\n"
     ]
    }
   ],
   "source": [
    "#Kiem tra diem co hop le hay khong (0->10)\n",
    "#Neu hop le thì kiểm tra xem có qua môn hay không (score >= 4)\n",
    "diem = 2\n",
    "score = 4\n",
    "if diem >= 0 and diem <= 10:\n",
    "    if score >= 4:\n",
    "        print(\"QUA MÔN\")\n",
    "    else:\n",
    "        print(\"RỚT MÔN\")\n",
    "else:\n",
    "    print(\"kHÔNG HỢP LỆ\")\n",
    "\n",
    "if diem >= 0 and diem <= 10 and score >=4:\n",
    "    print(\"QM\")\n",
    "elif diem >=0 and diem <= 10 and score < 4:\n",
    "    print(\"RM\")\n",
    "else: \n",
    "    print(\"KHL\")\n"
   ]
  },
  {
   "cell_type": "code",
   "execution_count": 31,
   "id": "923d6c2b-a058-4156-96ed-3a5deceb85c6",
   "metadata": {},
   "outputs": [
    {
     "name": "stdin",
     "output_type": "stream",
     "text": [
      "Nhập tên cần kiểm tra: Tuan\n"
     ]
    },
    {
     "name": "stdout",
     "output_type": "stream",
     "text": [
      "OK\n"
     ]
    }
   ],
   "source": [
    "#Tạo dictionary:\n",
    "d = {\n",
    "    'Tuan': 10,\n",
    "    'Tu': 8,\n",
    "    'Tun': 2\n",
    "}\n",
    "k = d.keys()\n",
    "v = d.values()\n",
    "#Kiểm tra xem người dùng có trong ds không nếu có thì kiểm tra xem ng dùng đó có qua môn hay không\n",
    "student = input(str(\"Nhập tên cần kiểm tra:\"))\n",
    "if student in d:\n",
    "    if d[student] >= 5:\n",
    "        print(\"OK\")\n",
    "    else: \n",
    "        print(\"OKN'T\")\n",
    "else:\n",
    "    print('sai')"
   ]
  },
  {
   "cell_type": "code",
   "execution_count": 59,
   "id": "515f07ae-a0f8-4551-afd6-a61e1cc73b33",
   "metadata": {},
   "outputs": [
    {
     "name": "stdin",
     "output_type": "stream",
     "text": [
      "Nhập giá tiền hóa đơn: 20\n"
     ]
    },
    {
     "name": "stdout",
     "output_type": "stream",
     "text": [
      "Số tiền hóa đơn là: 19.6đ (đã bao gồm giảm giá)\n"
     ]
    }
   ],
   "source": [
    "# Viết hàm tính hóa đơn sau khi giảm giá\n",
    "# Nếu > 1,000,000 : 10%\n",
    "# Nếu 500,000 - 1,000,000 : 5%\n",
    "# Nếu < 500.000 : 2%\n",
    "price = int(input(\"Nhập giá tiền hóa đơn:\"))\n",
    "if price >= 1000000:\n",
    "    price -= price * 0.1\n",
    "    print(\"Số tiền hóa đơn là: {}đ (đã bao gồm giảm giá)\".format(price))\n",
    "elif price >= 500000:\n",
    "    price -= price * 0.05\n",
    "    print(\"Số tiền hóa đơn là: {}đ (đã bao gồm giảm giá)\".format(price))\n",
    "else:\n",
    "    price -= price * 0.02\n",
    "    print(\"Số tiền hóa đơn là: {}đ (đã bao gồm giảm giá)\".format(price))"
   ]
  },
  {
   "cell_type": "markdown",
   "id": "bee21b14-2dfe-4b11-9988-1bdc10d8153a",
   "metadata": {},
   "source": [
    "# II. FOR"
   ]
  },
  {
   "cell_type": "code",
   "execution_count": 90,
   "id": "dd734687-75e6-4fb3-a2f8-c316469e21fd",
   "metadata": {},
   "outputs": [
    {
     "name": "stdout",
     "output_type": "stream",
     "text": [
      "5\n"
     ]
    }
   ],
   "source": [
    "# # in ra 10 pt đầu tiên\n",
    "# for i in range(10):\n",
    "#     print(i, end= ' ')\n",
    "\n",
    "#  tinh tông 10 pt đầu tiên\n",
    "total = 0\n",
    "for i in range(10):\n",
    "    total += i**2\n",
    "total\n",
    "\n",
    "#Đếm số ký tự viết hoa trong String\n",
    "s = 'THANH tuan'\n",
    "count = 0;\n",
    "for i in s:\n",
    "    if i.isupper():\n",
    "        count = count + 1\n",
    "    else:\n",
    "        count == 0\n",
    "print(count)"
   ]
  },
  {
   "cell_type": "code",
   "execution_count": 119,
   "id": "f5792664-69d3-4791-a945-5d14da5f5d65",
   "metadata": {},
   "outputs": [
    {
     "name": "stdout",
     "output_type": "stream",
     "text": [
      "ID:1 is value: Thanh\n",
      "ID:2 is value: Tuan\n",
      "ID:3 is value: Đẹp\n",
      "ID:4 is value: Qúa\n",
      "Tuan Tu Tun 10 8 2 KEY:Tuan is VALUE: 10\n",
      "KEY:Tu is VALUE: 8\n",
      "KEY:Tun is VALUE: 2\n"
     ]
    }
   ],
   "source": [
    "#Duyệt kèm enumerate\n",
    "s = {'Thanh', 'Tuan', 'Qúa', 'Đẹp'}\n",
    "for i, v in enumerate(s):\n",
    "    print(\"ID:{} is value: {}\".format(i+1,v))\n",
    "\n",
    "d = {\n",
    "    'Tuan': 10,\n",
    "    'Tu': 8,\n",
    "    'Tun': 2\n",
    "}\n",
    "for i in d.keys():\n",
    "    print(i, end= \" \")\n",
    "\n",
    "for i in d.values():\n",
    "    print(i, end = \" \")\n",
    "\n",
    "for k, v in d.items():\n",
    "    print(\"KEY:{} is VALUE: {}\".format(k,v))"
   ]
  },
  {
   "cell_type": "markdown",
   "id": "dd478570-18a3-4e66-ac91-f6d75cbd8818",
   "metadata": {},
   "source": [
    "# III. WHILE"
   ]
  },
  {
   "cell_type": "code",
   "execution_count": 130,
   "id": "2d744e6d-9f22-4a3a-acb8-39226afaa892",
   "metadata": {},
   "outputs": [
    {
     "name": "stdout",
     "output_type": "stream",
     "text": [
      "Thanh Tuan[1, 2, 3, 4, 5, 6, 7, 98]\n",
      "126\n",
      "[]\n"
     ]
    }
   ],
   "source": [
    "# duyệt list\n",
    "i = 0\n",
    "s = 'Thanh Tuan'\n",
    "while i < len(s):\n",
    "    print(s[i], end=\"\")\n",
    "    i+=1\n",
    "\n",
    "# Tính tổng và xóa dữ liệu sau khi tính xong\n",
    "l = [1,2,3,4,5,6,7,98]\n",
    "print(l)\n",
    "count = 0\n",
    "while l:\n",
    "    count += l.pop() #default pop => index -1   \n",
    "print(count)\n",
    "print(l)"
   ]
  },
  {
   "cell_type": "code",
   "execution_count": 141,
   "id": "f2518e67-793f-44d9-b430-49e7f89c51e4",
   "metadata": {},
   "outputs": [
    {
     "name": "stdout",
     "output_type": "stream",
     "text": [
      "1321321"
     ]
    }
   ],
   "source": [
    "# Đảo ngược số\n",
    "s = 1231231\n",
    "while s > 0:\n",
    "    r = s % 10\n",
    "    s = s // 10\n",
    "    print(r, end='')"
   ]
  },
  {
   "cell_type": "code",
   "execution_count": 145,
   "id": "63fd127d-837e-4551-9172-f1f544f8f76c",
   "metadata": {},
   "outputs": [
    {
     "name": "stdout",
     "output_type": "stream",
     "text": [
      "-226\n"
     ]
    }
   ],
   "source": [
    "# Cho 1 list chỉ tính tổng các số âm\n",
    "s = [-1,-2,4,5,6,-223]\n",
    "tong = 0\n",
    "for i in s:\n",
    "    if i >= 0:\n",
    "        continue\n",
    "    else:\n",
    "        tong += i\n",
    "print(tong)"
   ]
  },
  {
   "cell_type": "code",
   "execution_count": 180,
   "id": "9bcff419-8ceb-4efc-9c68-cc9e2aea9b51",
   "metadata": {},
   "outputs": [
    {
     "name": "stdout",
     "output_type": "stream",
     "text": [
      "[11, 15, 10]\n",
      "5\n",
      "machine\n"
     ]
    }
   ],
   "source": [
    "# Cho 1 ds = [11,6,4,15,21,26,'machine',10]\n",
    "# - Taoj 1 list gom cac mac hang da dung (id bat dau la 1)\n",
    "# Tinh tong so don hang khong la da dung\n",
    "# Timf va in ra khong phai la id don hang\n",
    "s = [11,6,4,15,21,26,'machine',10]\n",
    "# - Taoj 1 list gom cac mac hang da dung (id bat dau la 1)\n",
    "a = []\n",
    "for i in s:\n",
    "    if str(i).startswith(\"1\"):\n",
    "        a.append(i)\n",
    "print(a)\n",
    "\n",
    "# Tinh tong so don hang khong la da dung\n",
    "count = 0\n",
    "for i in s:\n",
    "    if str(i).startswith(\"1\"):\n",
    "        continue\n",
    "    else:\n",
    "        count += 1\n",
    "print(count)\n",
    "\n",
    "# Timf va in ra khong phai la id don hang (tuc la khong phai so)\n",
    "for i in s:\n",
    "    if str(i).isnumeric() == False:\n",
    "        print(i)"
   ]
  },
  {
   "cell_type": "markdown",
   "id": "b9a73062-352a-450c-922c-6b9301505296",
   "metadata": {},
   "source": [
    "# Conprehensions"
   ]
  },
  {
   "cell_type": "code",
   "execution_count": 5,
   "id": "611d2e64-db39-4eae-8cf8-8aec9fc1e229",
   "metadata": {},
   "outputs": [
    {
     "data": {
      "text/plain": [
       "[100, 101, 102, 103, 104, 105, 106, 107, 108, 109]"
      ]
     },
     "execution_count": 5,
     "metadata": {},
     "output_type": "execute_result"
    }
   ],
   "source": [
    "# Generate plus >= 100\n",
    "l = [x + 100 for x in range(10)]\n",
    "l"
   ]
  },
  {
   "cell_type": "code",
   "execution_count": 11,
   "id": "56e4394c-abaa-4660-a5ba-b04e468c332e",
   "metadata": {},
   "outputs": [
    {
     "data": {
      "text/plain": [
       "[5, 4, 3, 4, 5]"
      ]
     },
     "execution_count": 11,
     "metadata": {},
     "output_type": "execute_result"
    }
   ],
   "source": [
    "# Count number of charater for each word\n",
    "l = ['thanh','tuan','dep','trai','hahah']\n",
    "c = [len(x) for x in l]\n",
    "c"
   ]
  },
  {
   "cell_type": "code",
   "execution_count": 27,
   "id": "f9fae106-4ece-408b-ad7a-cabb16dcc12e",
   "metadata": {},
   "outputs": [
    {
     "data": {
      "text/plain": [
       "['20', '21']"
      ]
     },
     "execution_count": 27,
     "metadata": {},
     "output_type": "execute_result"
    }
   ],
   "source": [
    "# Tacsh cac con so trong 1 chuoi\n",
    "s = 'Thanh tuan nam nay 20 tuoi phai khong ta? toi tuong anh ay 21 tuoi'\n",
    "l = [i for i in s.split() if str(i).isnumeric() == True]\n",
    "l"
   ]
  },
  {
   "cell_type": "code",
   "execution_count": 29,
   "id": "37fffee3-595a-43ae-962a-8c0977ddfc84",
   "metadata": {},
   "outputs": [
    {
     "data": {
      "text/plain": [
       "{0: 0, 2: 4, 4: 16}"
      ]
     },
     "execution_count": 29,
     "metadata": {},
     "output_type": "execute_result"
    }
   ],
   "source": [
    "# Tính từ 0->5 các số chẵn thì ^2 còn số lẻ bỏ\n",
    "d = {k: k**2 for k in range(6) if k % 2 == 0}\n",
    "\n",
    "d"
   ]
  },
  {
   "cell_type": "code",
   "execution_count": 113,
   "id": "685bc7ff-1704-4b33-9438-e7bdfb5a20f3",
   "metadata": {},
   "outputs": [
    {
     "name": "stdout",
     "output_type": "stream",
     "text": [
      "[80]\n",
      "[150, 160]\n",
      "[100, 250]\n"
     ]
    }
   ],
   "source": [
    "# Bài 1\n",
    "s = [100,150,80,160,250]\n",
    "s_min = []\n",
    "s_mid = []\n",
    "s_max = []\n",
    "for i in s:\n",
    "    if i < 100:\n",
    "        s_min.append(i)\n",
    "    elif i> 100 and i < 200:\n",
    "        s_mid.append(i)\n",
    "    else:\n",
    "        s_max.append(i)\n",
    "        \n",
    "print(s_min)\n",
    "print(s_mid)\n",
    "print(s_max)"
   ]
  },
  {
   "cell_type": "code",
   "execution_count": 111,
   "id": "7cbcca52-ff27-49c2-aa2f-ff137cfa95d2",
   "metadata": {},
   "outputs": [
    {
     "name": "stdout",
     "output_type": "stream",
     "text": [
      "{'Ngọc': '345688', 'Chuong': '313123', 'Tuan': '412312'}\n"
     ]
    }
   ],
   "source": [
    "# BAIF 2\n",
    "d = {\n",
    "    'Ngọc': 12345688,\n",
    "    'Chuong':12313123,\n",
    "    'Tuan': 431233412312\n",
    "}\n",
    "l = {k: str(v)[-6:] for k,v in d.items()}\n",
    "print(l)"
   ]
  },
  {
   "cell_type": "code",
   "execution_count": 9,
   "id": "1a5a205e-5f84-4e6d-a533-a7ef8b1b539c",
   "metadata": {},
   "outputs": [
    {
     "name": "stdout",
     "output_type": "stream",
     "text": [
      "{'G12': 400, 'M15': 140, 'C20': 60000}\n",
      "{'G12': 400}\n"
     ]
    }
   ],
   "source": [
    "#BÀI 3\n",
    "d = {'G12': 500, 'M15': 200, 'C20': 100000}\n",
    "# output: {'G12': ----} G-> 20%, M-> 30%, C->40%\n",
    "new_d = {}\n",
    "for k,v in d.items():\n",
    "    if k.startswith('G'):\n",
    "        v = v - (v*0.2)\n",
    "    elif k.startswith('M'):\n",
    "         v = v - (v*0.3)\n",
    "    elif k.startswith('C'):\n",
    "        v = v - (v*0.4)\n",
    "    new_d[k] = int(v)\n",
    "\n",
    "print(new_d)\n",
    "\n",
    "new_d2 = {}\n",
    "for i in d:\n",
    "    if str(i).startswith('G'):\n",
    "        new_d2[i] = int(d[i] * 0.8) \n",
    "    elif str(i).startswith('M'):\n",
    "         new_d2[i] = int(d[i] * 0.8) \n",
    "    elif str(i).startswith('C'):\n",
    "         new_d2[i] = int(d[i] * 0.8) \n",
    "\n",
    "print(new_d2)\n"
   ]
  },
  {
   "cell_type": "code",
   "execution_count": 29,
   "id": "6e87bf32-df2e-40f0-bfd8-16ebf5b21966",
   "metadata": {},
   "outputs": [
    {
     "name": "stdout",
     "output_type": "stream",
     "text": [
      "Tuan có tổng đơn hàng: 100\n",
      "Manh có tổng đơn hàng: 123123\n",
      "Manh có tổng đơn hàng: 1354354\n"
     ]
    }
   ],
   "source": [
    "#BÀI 4\n",
    "name = ['Tuan','Manh','Cuong','Lan']\n",
    "d_name = {'Tuan': 100, 'Manh': 123123, 'manh': 1231231}\n",
    "# dùng nested loop in ra tổng giá trị đơn hàng với từng khách hàng\n",
    "for i in name:\n",
    "    t = 0\n",
    "    for k in d_name.keys():\n",
    "        if i.lower() == k.lower():\n",
    "            t += d_name[k]\n",
    "            print(f\"{i} có tổng đơn hàng: {t}\")"
   ]
  }
 ],
 "metadata": {
  "kernelspec": {
   "display_name": "Python [conda env:base] *",
   "language": "python",
   "name": "conda-base-py"
  },
  "language_info": {
   "codemirror_mode": {
    "name": "ipython",
    "version": 3
   },
   "file_extension": ".py",
   "mimetype": "text/x-python",
   "name": "python",
   "nbconvert_exporter": "python",
   "pygments_lexer": "ipython3",
   "version": "3.12.7"
  }
 },
 "nbformat": 4,
 "nbformat_minor": 5
}
